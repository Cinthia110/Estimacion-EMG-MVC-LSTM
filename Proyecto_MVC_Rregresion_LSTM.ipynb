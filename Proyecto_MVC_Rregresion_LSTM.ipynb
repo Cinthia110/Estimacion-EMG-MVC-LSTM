{
  "nbformat": 4,
  "nbformat_minor": 0,
  "metadata": {
    "colab": {
      "provenance": [],
      "authorship_tag": "ABX9TyOvlzAWuNYpwEArxrEYwPy8",
      "include_colab_link": true
    },
    "kernelspec": {
      "name": "python3",
      "display_name": "Python 3"
    },
    "language_info": {
      "name": "python"
    }
  },
  "cells": [
    {
      "cell_type": "markdown",
      "metadata": {
        "id": "view-in-github",
        "colab_type": "text"
      },
      "source": [
        "<a href=\"https://colab.research.google.com/github/Cinthia110/Estimacion-EMG-MVC-LSTM/blob/main/Proyecto_MVC_Rregresion_LSTM.ipynb\" target=\"_parent\"><img src=\"https://colab.research.google.com/assets/colab-badge.svg\" alt=\"Open In Colab\"/></a>"
      ]
    },
    {
      "cell_type": "code",
      "execution_count": 5,
      "metadata": {
        "colab": {
          "base_uri": "https://localhost:8080/"
        },
        "id": "RZZxpbu7PqqD",
        "outputId": "c915082f-d841-4f4e-92da-143dbd1535c1"
      },
      "outputs": [
        {
          "output_type": "stream",
          "name": "stdout",
          "text": [
            "Requirement already satisfied: wfdb==4.0.0 in /usr/local/lib/python3.11/dist-packages (4.0.0)\n"
          ]
        }
      ],
      "source": [
        "#Intalar wfdb\n",
        "!pip install wfdb==4.0.0 --no-deps"
      ]
    },
    {
      "cell_type": "code",
      "source": [
        "#Importar librerías\n",
        "import wfdb\n",
        "import matplotlib.pyplot as plt\n",
        "import numpy as np\n",
        "from scipy.signal import welch\n",
        "import os\n",
        "import pandas as pd\n",
        "import joblib\n",
        "from sklearn.model_selection import train_test_split\n",
        "from sklearn.preprocessing import StandardScaler, MinMaxScaler\n",
        "from tensorflow.keras.models import Sequential, load_model\n",
        "from tensorflow.keras.layers import LSTM, Dense, Dropout\n",
        "import seaborn as sns\n",
        "from sklearn.metrics import confusion_matrix, classification_report\n",
        "from google.colab import drive"
      ],
      "metadata": {
        "id": "lGTADfCCPxtO"
      },
      "execution_count": 6,
      "outputs": []
    },
    {
      "cell_type": "code",
      "source": [
        "#Montar Drive (si no lo tienes montado)\n",
        "from google.colab import drive\n",
        "drive.mount('/content/drive')"
      ],
      "metadata": {
        "colab": {
          "base_uri": "https://localhost:8080/"
        },
        "id": "fQjSejX-P093",
        "outputId": "f69a35d5-c075-42c4-b1bc-ce8c7960fffc"
      },
      "execution_count": 7,
      "outputs": [
        {
          "output_type": "stream",
          "name": "stdout",
          "text": [
            "Drive already mounted at /content/drive; to attempt to forcibly remount, call drive.mount(\"/content/drive\", force_remount=True).\n"
          ]
        }
      ]
    },
    {
      "cell_type": "code",
      "source": [
        "#Definir carpeta\n",
        "folder_path = '/content/drive/MyDrive/Data_Base/'"
      ],
      "metadata": {
        "id": "d-yLIJ6Lbv59"
      },
      "execution_count": 4,
      "outputs": []
    },
    {
      "cell_type": "code",
      "source": [
        "import glob\n",
        "import os\n",
        "import wfdb\n",
        "import numpy as np\n",
        "import pandas as pd\n",
        "from scipy.signal import welch\n",
        "\n",
        "# --- Ruta de la carpeta ---\n",
        "folder_path = '/content/drive/MyDrive/Data_Base/'\n",
        "\n",
        "# Buscar TODOS los .hea\n",
        "hea_files = glob.glob(folder_path + '*.hea')\n",
        "print(f' Se encontraron {len(hea_files)} señales.')\n",
        "\n",
        "# --- Parámetros ---\n",
        "win_ms = 200  # ventana de 200 ms\n",
        "overlap = 0.5\n",
        "\n",
        "# --- Lista para guardar características ---\n",
        "all_features = []\n",
        "\n",
        "# --- Loop por cada archivo ---\n",
        "for hea_file in hea_files:\n",
        "    try:\n",
        "        emg_name = os.path.splitext(hea_file)[0]\n",
        "\n",
        "        # --- Cargar señal ---\n",
        "        emg_record = wfdb.rdrecord(emg_name)\n",
        "        emg_data = emg_record.p_signal\n",
        "        fs_emg = emg_record.fs\n",
        "\n",
        "        print(f'\\n Cargando: {os.path.basename(emg_name)} - shape: {emg_data.shape}, fs={fs_emg} Hz')\n",
        "\n",
        "        # Mejor canal\n",
        "        rms_channels = np.sqrt(np.mean(emg_data**2, axis=0))\n",
        "        best_channel = np.argmax(rms_channels)\n",
        "        emg_ch = emg_data[:, best_channel]\n",
        "\n",
        "        # Ventaneo\n",
        "        win_size = int(fs_emg * (win_ms / 1000))\n",
        "        step_size = int(win_size * (1 - overlap))\n",
        "\n",
        "        rms_list = []\n",
        "        avr_list = []\n",
        "        mnf_list = []\n",
        "\n",
        "        for start in range(0, len(emg_ch) - win_size, step_size):\n",
        "            window = emg_ch[start:start + win_size]\n",
        "\n",
        "            rms = np.sqrt(np.mean(window**2))\n",
        "            avr = np.mean(np.abs(window))\n",
        "            f, Pxx = welch(window, fs_emg, nperseg=win_size)\n",
        "            mnf = np.sum(f * Pxx) / np.sum(Pxx)\n",
        "\n",
        "            rms_list.append(rms)\n",
        "            avr_list.append(avr)\n",
        "            mnf_list.append(mnf)\n",
        "\n",
        "        # %MVC\n",
        "        rms_arr = np.array(rms_list)\n",
        "        avr_arr = np.array(avr_list)\n",
        "        mnf_arr = np.array(mnf_list)\n",
        "\n",
        "        mvc_rms = np.max(rms_arr)\n",
        "        rms_percent = (rms_arr / mvc_rms) * 100\n",
        "\n",
        "        # Guardar cada ventana\n",
        "        count_windows = 0\n",
        "        for j in range(len(rms_percent)):\n",
        "            mvc_value = rms_percent[j]\n",
        "\n",
        "            if mvc_value < 10:\n",
        "                continue  # omitir ventanas muy bajas\n",
        "\n",
        "            feature = {\n",
        "                'signal_name': os.path.basename(emg_name),\n",
        "                'best_channel': best_channel,\n",
        "                'rms_percent': rms_percent[j],\n",
        "                'avr': avr_arr[j],\n",
        "                'mnf': mnf_arr[j]\n",
        "            }\n",
        "\n",
        "            all_features.append(feature)\n",
        "            count_windows += 1\n",
        "\n",
        "        print(f' → Ventanas generadas: {count_windows}')\n",
        "\n",
        "    except Exception as e:\n",
        "        print(f' Error en archivo {hea_file}: {e}')\n",
        "\n",
        "\n",
        "# Guardar CSV\n",
        "df_features = pd.DataFrame(all_features)\n",
        "output_csv = folder_path + 'EMG_features_RMS_ARV_MNF.csv'\n",
        "df_features.to_csv(output_csv, index=False)\n",
        "print(f'\\n CSV generado con {len(df_features)} ventanas totales')\n",
        "print(f' Guardado en: {output_csv}')\n"
      ],
      "metadata": {
        "colab": {
          "base_uri": "https://localhost:8080/"
        },
        "id": "wQaVXH4FfSCk",
        "outputId": "1f56b086-1a3b-4695-af19-05f2f962e442"
      },
      "execution_count": 67,
      "outputs": [
        {
          "output_type": "stream",
          "name": "stdout",
          "text": [
            " Se encontraron 60 señales.\n",
            "\n",
            " Cargando: U1S1_mvc_preprocess_finger1_extension - shape: (20480, 256), fs=2048 Hz\n",
            " → Ventanas generadas: 99\n",
            "\n",
            " Cargando: U1S1_mvc_preprocess_finger1_flexion - shape: (20480, 256), fs=2048 Hz\n",
            " → Ventanas generadas: 99\n",
            "\n",
            " Cargando: U1S1_mvc_preprocess_finger2_extension - shape: (20480, 256), fs=2048 Hz\n",
            " → Ventanas generadas: 99\n",
            "\n",
            " Cargando: U1S1_mvc_preprocess_finger2_flexion - shape: (20480, 256), fs=2048 Hz\n",
            " → Ventanas generadas: 99\n",
            "\n",
            " Cargando: U1S1_mvc_preprocess_finger3_extension - shape: (20480, 256), fs=2048 Hz\n",
            " → Ventanas generadas: 99\n",
            "\n",
            " Cargando: U1S1_mvc_preprocess_finger3_flexion - shape: (20480, 256), fs=2048 Hz\n",
            " → Ventanas generadas: 99\n",
            "\n",
            " Cargando: U1S1_mvc_preprocess_finger4_extension - shape: (20480, 256), fs=2048 Hz\n",
            " → Ventanas generadas: 99\n",
            "\n",
            " Cargando: U1S1_mvc_preprocess_finger4_flexion - shape: (20480, 256), fs=2048 Hz\n",
            " → Ventanas generadas: 99\n",
            "\n",
            " Cargando: U1S1_mvc_preprocess_finger5_flexion - shape: (20480, 256), fs=2048 Hz\n",
            " → Ventanas generadas: 99\n",
            "\n",
            " Cargando: U1S1_mvc_preprocess_finger5_extension - shape: (20480, 256), fs=2048 Hz\n",
            " → Ventanas generadas: 99\n",
            "\n",
            " Cargando: U1S2_mvc_preprocess_finger1_extension - shape: (20480, 256), fs=2048 Hz\n",
            " → Ventanas generadas: 99\n",
            "\n",
            " Cargando: U1S2_mvc_preprocess_finger1_flexion - shape: (20480, 256), fs=2048 Hz\n",
            " → Ventanas generadas: 99\n",
            "\n",
            " Cargando: U1S2_mvc_preprocess_finger2_extension - shape: (20480, 256), fs=2048 Hz\n",
            " → Ventanas generadas: 99\n",
            "\n",
            " Cargando: U1S2_mvc_preprocess_finger2_flexion - shape: (20480, 256), fs=2048 Hz\n",
            " → Ventanas generadas: 99\n",
            "\n",
            " Cargando: U1S2_mvc_preprocess_finger3_extension - shape: (20480, 256), fs=2048 Hz\n",
            " → Ventanas generadas: 99\n",
            "\n",
            " Cargando: U1S2_mvc_preprocess_finger3_flexion - shape: (20480, 256), fs=2048 Hz\n",
            " → Ventanas generadas: 99\n",
            "\n",
            " Cargando: U1S2_mvc_preprocess_finger4_extension - shape: (20480, 256), fs=2048 Hz\n",
            " → Ventanas generadas: 99\n",
            "\n",
            " Cargando: U1S2_mvc_preprocess_finger4_flexion - shape: (20480, 256), fs=2048 Hz\n",
            " → Ventanas generadas: 99\n",
            "\n",
            " Cargando: U1S2_mvc_preprocess_finger5_extension - shape: (20480, 256), fs=2048 Hz\n",
            " → Ventanas generadas: 99\n",
            "\n",
            " Cargando: U1S2_mvc_preprocess_finger5_flexion - shape: (20480, 256), fs=2048 Hz\n",
            " → Ventanas generadas: 99\n",
            "\n",
            " Cargando: U2S1_mvc_preprocess_finger1_extension - shape: (20480, 256), fs=2048 Hz\n",
            " → Ventanas generadas: 99\n",
            "\n",
            " Cargando: U2S1_mvc_preprocess_finger1_flexion - shape: (20480, 256), fs=2048 Hz\n",
            " → Ventanas generadas: 99\n",
            "\n",
            " Cargando: U2S1_mvc_preprocess_finger2_flexion - shape: (20480, 256), fs=2048 Hz\n",
            " → Ventanas generadas: 99\n",
            "\n",
            " Cargando: U2S1_mvc_preprocess_finger2_extension - shape: (20480, 256), fs=2048 Hz\n",
            " → Ventanas generadas: 99\n",
            "\n",
            " Cargando: U2S1_mvc_preprocess_finger3_flexion - shape: (20480, 256), fs=2048 Hz\n",
            " → Ventanas generadas: 50\n",
            "\n",
            " Cargando: U2S1_mvc_preprocess_finger3_extension - shape: (20480, 256), fs=2048 Hz\n",
            " → Ventanas generadas: 99\n",
            "\n",
            " Cargando: U2S1_mvc_preprocess_finger4_extension - shape: (20480, 256), fs=2048 Hz\n",
            " → Ventanas generadas: 68\n",
            "\n",
            " Cargando: U2S1_mvc_preprocess_finger4_flexion - shape: (20480, 256), fs=2048 Hz\n",
            " → Ventanas generadas: 22\n",
            "\n",
            " Cargando: U2S1_mvc_preprocess_finger5_flexion - shape: (20480, 256), fs=2048 Hz\n",
            " → Ventanas generadas: 14\n",
            "\n",
            " Cargando: U2S1_mvc_preprocess_finger5_extension - shape: (20480, 256), fs=2048 Hz\n",
            " → Ventanas generadas: 99\n",
            "\n",
            " Cargando: U2S2_mvc_preprocess_finger1_extension - shape: (20480, 256), fs=2048 Hz\n",
            " → Ventanas generadas: 84\n",
            "\n",
            " Cargando: U2S2_mvc_preprocess_finger1_flexion - shape: (20480, 256), fs=2048 Hz\n",
            " → Ventanas generadas: 53\n",
            "\n",
            " Cargando: U2S2_mvc_preprocess_finger2_extension - shape: (20480, 256), fs=2048 Hz\n",
            " → Ventanas generadas: 71\n",
            "\n",
            " Cargando: U2S2_mvc_preprocess_finger2_flexion - shape: (20480, 256), fs=2048 Hz\n",
            " → Ventanas generadas: 51\n",
            "\n",
            " Cargando: U2S2_mvc_preprocess_finger3_extension - shape: (20480, 256), fs=2048 Hz\n",
            " → Ventanas generadas: 99\n",
            "\n",
            " Cargando: U2S2_mvc_preprocess_finger3_flexion - shape: (20480, 256), fs=2048 Hz\n",
            " → Ventanas generadas: 99\n",
            "\n",
            " Cargando: U2S2_mvc_preprocess_finger4_extension - shape: (20480, 256), fs=2048 Hz\n",
            " → Ventanas generadas: 99\n",
            "\n",
            " Cargando: U2S2_mvc_preprocess_finger4_flexion - shape: (20480, 256), fs=2048 Hz\n",
            " → Ventanas generadas: 99\n",
            "\n",
            " Cargando: U2S2_mvc_preprocess_finger5_flexion - shape: (20480, 256), fs=2048 Hz\n",
            " → Ventanas generadas: 99\n",
            "\n",
            " Cargando: U2S2_mvc_preprocess_finger5_extension - shape: (20480, 256), fs=2048 Hz\n",
            " → Ventanas generadas: 76\n",
            "\n",
            " Cargando: U3S1_mvc_preprocess_finger1_extension - shape: (20480, 256), fs=2048 Hz\n",
            " → Ventanas generadas: 99\n",
            "\n",
            " Cargando: U3S1_mvc_preprocess_finger1_flexion - shape: (20480, 256), fs=2048 Hz\n",
            " → Ventanas generadas: 99\n",
            "\n",
            " Cargando: U3S1_mvc_preprocess_finger2_extension - shape: (20480, 256), fs=2048 Hz\n",
            " → Ventanas generadas: 99\n",
            "\n",
            " Cargando: U3S1_mvc_preprocess_finger2_flexion - shape: (20480, 256), fs=2048 Hz\n",
            " → Ventanas generadas: 99\n",
            "\n",
            " Cargando: U3S1_mvc_preprocess_finger3_extension - shape: (20480, 256), fs=2048 Hz\n",
            " → Ventanas generadas: 99\n",
            "\n",
            " Cargando: U3S1_mvc_preprocess_finger3_flexion - shape: (20480, 256), fs=2048 Hz\n",
            " → Ventanas generadas: 99\n",
            "\n",
            " Cargando: U3S1_mvc_preprocess_finger4_extension - shape: (20480, 256), fs=2048 Hz\n",
            " → Ventanas generadas: 99\n",
            "\n",
            " Cargando: U3S1_mvc_preprocess_finger4_flexion - shape: (20480, 256), fs=2048 Hz\n",
            " → Ventanas generadas: 99\n",
            "\n",
            " Cargando: U3S1_mvc_preprocess_finger5_extension - shape: (20480, 256), fs=2048 Hz\n",
            " → Ventanas generadas: 99\n",
            "\n",
            " Cargando: U3S1_mvc_preprocess_finger5_flexion - shape: (20480, 256), fs=2048 Hz\n",
            " → Ventanas generadas: 99\n",
            "\n",
            " Cargando: U3S2_mvc_preprocess_finger1_extension - shape: (20480, 256), fs=2048 Hz\n",
            " → Ventanas generadas: 99\n",
            "\n",
            " Cargando: U3S2_mvc_preprocess_finger1_flexion - shape: (20480, 256), fs=2048 Hz\n",
            " → Ventanas generadas: 99\n",
            "\n",
            " Cargando: U3S2_mvc_preprocess_finger2_extension - shape: (20480, 256), fs=2048 Hz\n",
            " → Ventanas generadas: 99\n",
            "\n",
            " Cargando: U3S2_mvc_preprocess_finger2_flexion - shape: (20480, 256), fs=2048 Hz\n",
            " → Ventanas generadas: 99\n",
            "\n",
            " Cargando: U3S2_mvc_preprocess_finger3_extension - shape: (20480, 256), fs=2048 Hz\n",
            " → Ventanas generadas: 41\n",
            "\n",
            " Cargando: U3S2_mvc_preprocess_finger3_flexion - shape: (20480, 256), fs=2048 Hz\n",
            " → Ventanas generadas: 99\n",
            "\n",
            " Cargando: U3S2_mvc_preprocess_finger4_extension - shape: (20480, 256), fs=2048 Hz\n",
            " → Ventanas generadas: 99\n",
            "\n",
            " Cargando: U3S2_mvc_preprocess_finger4_flexion - shape: (20480, 256), fs=2048 Hz\n",
            " → Ventanas generadas: 99\n",
            "\n",
            " Cargando: U3S2_mvc_preprocess_finger5_extension - shape: (20480, 256), fs=2048 Hz\n",
            " → Ventanas generadas: 99\n",
            "\n",
            " Cargando: U3S2_mvc_preprocess_finger5_flexion - shape: (20480, 256), fs=2048 Hz\n",
            " → Ventanas generadas: 99\n",
            "\n",
            " CSV generado con 5480 ventanas totales\n",
            " Guardado en: /content/drive/MyDrive/Data_Base/EMG_features_RMS_ARV_MNF.csv\n"
          ]
        }
      ]
    },
    {
      "cell_type": "code",
      "source": [
        "# --- Cargar CSV ---\n",
        "# Cargar CSV\n",
        "df = pd.read_csv('/content/drive/MyDrive/Data_Base/EMG_features_RMS_ARV_MNF.csv')\n",
        "print(f'Datos cargados: {df.shape[0]} muestras')\n",
        "\n",
        "# Preparación\n",
        "feature_cols = ['rms_percent', 'avr', 'mnf']\n",
        "grouped = df.groupby('signal_name')\n",
        "\n",
        "timesteps = 10\n",
        "X_seq = []\n",
        "y_seq_reg = []\n",
        "\n",
        "\n",
        "# Construir secuencias\n",
        "for signal_name, group in grouped:\n",
        "    group_sorted = group.sort_index()\n",
        "    features = group_sorted[feature_cols].values\n",
        "    labels_reg = group_sorted['rms_percent'].values\n",
        "\n",
        "    for i in range(len(features) - timesteps):\n",
        "        X_seq.append(features[i:i+timesteps])\n",
        "        y_seq_reg.append(labels_reg[i+timesteps-1])\n",
        "\n",
        "X_seq = np.array(X_seq)\n",
        "y_seq_reg = np.array(y_seq_reg)\n",
        "\n",
        "print(f'Secuencias generadas: {X_seq.shape[0]}')\n",
        "print(f'Forma de X: {X_seq.shape}')\n",
        "\n",
        "# Escalar X\n",
        "scaler = StandardScaler()\n",
        "X_seq_reshaped = X_seq.reshape(-1, X_seq.shape[2])\n",
        "X_seq_scaled = scaler.fit_transform(X_seq_reshaped)\n",
        "X_seq_scaled = X_seq_scaled.reshape(-1, timesteps, X_seq.shape[2])\n",
        "joblib.dump(scaler, '/content/drive/MyDrive/Data_Base/scaler_lstm_emg.pkl')\n",
        "print(' Scaler X guardado')\n",
        "\n",
        "# Split\n",
        "X_train_reg, X_test_reg, y_train_reg, y_test_reg = train_test_split(\n",
        "    X_seq_scaled, y_seq_reg, test_size=0.2, random_state=42)\n",
        "\n",
        "# Normalizar Y (Regresión)\n",
        "scaler_y = MinMaxScaler(feature_range=(0, 1))\n",
        "y_train_reg_scaled = scaler_y.fit_transform(y_train_reg.reshape(-1,1))\n",
        "y_test_reg_scaled = scaler_y.transform(y_test_reg.reshape(-1,1))\n",
        "joblib.dump(scaler_y, '/content/drive/MyDrive/Data_Base/scaler_y_reg.pkl')\n",
        "print(' Scaler Y guardado')\n"
      ],
      "metadata": {
        "id": "iXGDjJVI0wh4",
        "colab": {
          "base_uri": "https://localhost:8080/"
        },
        "outputId": "34d84951-da4b-4415-be37-614e6527e888"
      },
      "execution_count": 68,
      "outputs": [
        {
          "output_type": "stream",
          "name": "stdout",
          "text": [
            "Datos cargados: 5480 muestras\n",
            "Secuencias generadas: 4880\n",
            "Forma de X: (4880, 10, 3)\n",
            " Scaler X guardado\n",
            " Scaler Y guardado\n"
          ]
        }
      ]
    },
    {
      "cell_type": "code",
      "source": [
        "# Modelo LSTM Regressor\n",
        "model_reg = Sequential()\n",
        "model_reg.add(LSTM(128, input_shape=(timesteps, X_seq.shape[2]), return_sequences=True))\n",
        "model_reg.add(Dropout(0.3))\n",
        "model_reg.add(LSTM(64, return_sequences=False))\n",
        "model_reg.add(Dense(32, activation='relu'))\n",
        "model_reg.add(Dense(1, activation='linear'))\n",
        "\n",
        "model_reg.compile(loss='mse', optimizer='adam', metrics=['mae'])\n",
        "model_reg.summary()\n",
        "# Entrenamiento\n",
        "history_reg = model_reg.fit(\n",
        "    X_train_reg, y_train_reg_scaled, epochs=50, batch_size=32, validation_split=0.2\n",
        ")"
      ],
      "metadata": {
        "colab": {
          "base_uri": "https://localhost:8080/",
          "height": 1000
        },
        "id": "-phaY8GeB1ad",
        "outputId": "4683aecd-f642-4b6e-a4f5-f45900f077e0"
      },
      "execution_count": 70,
      "outputs": [
        {
          "output_type": "stream",
          "name": "stderr",
          "text": [
            "/usr/local/lib/python3.11/dist-packages/keras/src/layers/rnn/rnn.py:200: UserWarning: Do not pass an `input_shape`/`input_dim` argument to a layer. When using Sequential models, prefer using an `Input(shape)` object as the first layer in the model instead.\n",
            "  super().__init__(**kwargs)\n"
          ]
        },
        {
          "output_type": "display_data",
          "data": {
            "text/plain": [
              "\u001b[1mModel: \"sequential_3\"\u001b[0m\n"
            ],
            "text/html": [
              "<pre style=\"white-space:pre;overflow-x:auto;line-height:normal;font-family:Menlo,'DejaVu Sans Mono',consolas,'Courier New',monospace\"><span style=\"font-weight: bold\">Model: \"sequential_3\"</span>\n",
              "</pre>\n"
            ]
          },
          "metadata": {}
        },
        {
          "output_type": "display_data",
          "data": {
            "text/plain": [
              "┏━━━━━━━━━━━━━━━━━━━━━━━━━━━━━━━━━┳━━━━━━━━━━━━━━━━━━━━━━━━┳━━━━━━━━━━━━━━━┓\n",
              "┃\u001b[1m \u001b[0m\u001b[1mLayer (type)                   \u001b[0m\u001b[1m \u001b[0m┃\u001b[1m \u001b[0m\u001b[1mOutput Shape          \u001b[0m\u001b[1m \u001b[0m┃\u001b[1m \u001b[0m\u001b[1m      Param #\u001b[0m\u001b[1m \u001b[0m┃\n",
              "┡━━━━━━━━━━━━━━━━━━━━━━━━━━━━━━━━━╇━━━━━━━━━━━━━━━━━━━━━━━━╇━━━━━━━━━━━━━━━┩\n",
              "│ lstm_6 (\u001b[38;5;33mLSTM\u001b[0m)                   │ (\u001b[38;5;45mNone\u001b[0m, \u001b[38;5;34m10\u001b[0m, \u001b[38;5;34m128\u001b[0m)        │        \u001b[38;5;34m67,584\u001b[0m │\n",
              "├─────────────────────────────────┼────────────────────────┼───────────────┤\n",
              "│ dropout_3 (\u001b[38;5;33mDropout\u001b[0m)             │ (\u001b[38;5;45mNone\u001b[0m, \u001b[38;5;34m10\u001b[0m, \u001b[38;5;34m128\u001b[0m)        │             \u001b[38;5;34m0\u001b[0m │\n",
              "├─────────────────────────────────┼────────────────────────┼───────────────┤\n",
              "│ lstm_7 (\u001b[38;5;33mLSTM\u001b[0m)                   │ (\u001b[38;5;45mNone\u001b[0m, \u001b[38;5;34m64\u001b[0m)             │        \u001b[38;5;34m49,408\u001b[0m │\n",
              "├─────────────────────────────────┼────────────────────────┼───────────────┤\n",
              "│ dense_6 (\u001b[38;5;33mDense\u001b[0m)                 │ (\u001b[38;5;45mNone\u001b[0m, \u001b[38;5;34m32\u001b[0m)             │         \u001b[38;5;34m2,080\u001b[0m │\n",
              "├─────────────────────────────────┼────────────────────────┼───────────────┤\n",
              "│ dense_7 (\u001b[38;5;33mDense\u001b[0m)                 │ (\u001b[38;5;45mNone\u001b[0m, \u001b[38;5;34m1\u001b[0m)              │            \u001b[38;5;34m33\u001b[0m │\n",
              "└─────────────────────────────────┴────────────────────────┴───────────────┘\n"
            ],
            "text/html": [
              "<pre style=\"white-space:pre;overflow-x:auto;line-height:normal;font-family:Menlo,'DejaVu Sans Mono',consolas,'Courier New',monospace\">┏━━━━━━━━━━━━━━━━━━━━━━━━━━━━━━━━━┳━━━━━━━━━━━━━━━━━━━━━━━━┳━━━━━━━━━━━━━━━┓\n",
              "┃<span style=\"font-weight: bold\"> Layer (type)                    </span>┃<span style=\"font-weight: bold\"> Output Shape           </span>┃<span style=\"font-weight: bold\">       Param # </span>┃\n",
              "┡━━━━━━━━━━━━━━━━━━━━━━━━━━━━━━━━━╇━━━━━━━━━━━━━━━━━━━━━━━━╇━━━━━━━━━━━━━━━┩\n",
              "│ lstm_6 (<span style=\"color: #0087ff; text-decoration-color: #0087ff\">LSTM</span>)                   │ (<span style=\"color: #00d7ff; text-decoration-color: #00d7ff\">None</span>, <span style=\"color: #00af00; text-decoration-color: #00af00\">10</span>, <span style=\"color: #00af00; text-decoration-color: #00af00\">128</span>)        │        <span style=\"color: #00af00; text-decoration-color: #00af00\">67,584</span> │\n",
              "├─────────────────────────────────┼────────────────────────┼───────────────┤\n",
              "│ dropout_3 (<span style=\"color: #0087ff; text-decoration-color: #0087ff\">Dropout</span>)             │ (<span style=\"color: #00d7ff; text-decoration-color: #00d7ff\">None</span>, <span style=\"color: #00af00; text-decoration-color: #00af00\">10</span>, <span style=\"color: #00af00; text-decoration-color: #00af00\">128</span>)        │             <span style=\"color: #00af00; text-decoration-color: #00af00\">0</span> │\n",
              "├─────────────────────────────────┼────────────────────────┼───────────────┤\n",
              "│ lstm_7 (<span style=\"color: #0087ff; text-decoration-color: #0087ff\">LSTM</span>)                   │ (<span style=\"color: #00d7ff; text-decoration-color: #00d7ff\">None</span>, <span style=\"color: #00af00; text-decoration-color: #00af00\">64</span>)             │        <span style=\"color: #00af00; text-decoration-color: #00af00\">49,408</span> │\n",
              "├─────────────────────────────────┼────────────────────────┼───────────────┤\n",
              "│ dense_6 (<span style=\"color: #0087ff; text-decoration-color: #0087ff\">Dense</span>)                 │ (<span style=\"color: #00d7ff; text-decoration-color: #00d7ff\">None</span>, <span style=\"color: #00af00; text-decoration-color: #00af00\">32</span>)             │         <span style=\"color: #00af00; text-decoration-color: #00af00\">2,080</span> │\n",
              "├─────────────────────────────────┼────────────────────────┼───────────────┤\n",
              "│ dense_7 (<span style=\"color: #0087ff; text-decoration-color: #0087ff\">Dense</span>)                 │ (<span style=\"color: #00d7ff; text-decoration-color: #00d7ff\">None</span>, <span style=\"color: #00af00; text-decoration-color: #00af00\">1</span>)              │            <span style=\"color: #00af00; text-decoration-color: #00af00\">33</span> │\n",
              "└─────────────────────────────────┴────────────────────────┴───────────────┘\n",
              "</pre>\n"
            ]
          },
          "metadata": {}
        },
        {
          "output_type": "display_data",
          "data": {
            "text/plain": [
              "\u001b[1m Total params: \u001b[0m\u001b[38;5;34m119,105\u001b[0m (465.25 KB)\n"
            ],
            "text/html": [
              "<pre style=\"white-space:pre;overflow-x:auto;line-height:normal;font-family:Menlo,'DejaVu Sans Mono',consolas,'Courier New',monospace\"><span style=\"font-weight: bold\"> Total params: </span><span style=\"color: #00af00; text-decoration-color: #00af00\">119,105</span> (465.25 KB)\n",
              "</pre>\n"
            ]
          },
          "metadata": {}
        },
        {
          "output_type": "display_data",
          "data": {
            "text/plain": [
              "\u001b[1m Trainable params: \u001b[0m\u001b[38;5;34m119,105\u001b[0m (465.25 KB)\n"
            ],
            "text/html": [
              "<pre style=\"white-space:pre;overflow-x:auto;line-height:normal;font-family:Menlo,'DejaVu Sans Mono',consolas,'Courier New',monospace\"><span style=\"font-weight: bold\"> Trainable params: </span><span style=\"color: #00af00; text-decoration-color: #00af00\">119,105</span> (465.25 KB)\n",
              "</pre>\n"
            ]
          },
          "metadata": {}
        },
        {
          "output_type": "display_data",
          "data": {
            "text/plain": [
              "\u001b[1m Non-trainable params: \u001b[0m\u001b[38;5;34m0\u001b[0m (0.00 B)\n"
            ],
            "text/html": [
              "<pre style=\"white-space:pre;overflow-x:auto;line-height:normal;font-family:Menlo,'DejaVu Sans Mono',consolas,'Courier New',monospace\"><span style=\"font-weight: bold\"> Non-trainable params: </span><span style=\"color: #00af00; text-decoration-color: #00af00\">0</span> (0.00 B)\n",
              "</pre>\n"
            ]
          },
          "metadata": {}
        },
        {
          "output_type": "stream",
          "name": "stdout",
          "text": [
            "Epoch 1/50\n",
            "\u001b[1m98/98\u001b[0m \u001b[32m━━━━━━━━━━━━━━━━━━━━\u001b[0m\u001b[37m\u001b[0m \u001b[1m15s\u001b[0m 38ms/step - loss: 0.1414 - mae: 0.2776 - val_loss: 0.0055 - val_mae: 0.0507\n",
            "Epoch 2/50\n",
            "\u001b[1m98/98\u001b[0m \u001b[32m━━━━━━━━━━━━━━━━━━━━\u001b[0m\u001b[37m\u001b[0m \u001b[1m4s\u001b[0m 27ms/step - loss: 0.0060 - mae: 0.0536 - val_loss: 0.0033 - val_mae: 0.0390\n",
            "Epoch 3/50\n",
            "\u001b[1m98/98\u001b[0m \u001b[32m━━━━━━━━━━━━━━━━━━━━\u001b[0m\u001b[37m\u001b[0m \u001b[1m4s\u001b[0m 37ms/step - loss: 0.0042 - mae: 0.0464 - val_loss: 0.0021 - val_mae: 0.0301\n",
            "Epoch 4/50\n",
            "\u001b[1m98/98\u001b[0m \u001b[32m━━━━━━━━━━━━━━━━━━━━\u001b[0m\u001b[37m\u001b[0m \u001b[1m5s\u001b[0m 32ms/step - loss: 0.0031 - mae: 0.0410 - val_loss: 0.0020 - val_mae: 0.0345\n",
            "Epoch 5/50\n",
            "\u001b[1m98/98\u001b[0m \u001b[32m━━━━━━━━━━━━━━━━━━━━\u001b[0m\u001b[37m\u001b[0m \u001b[1m2s\u001b[0m 25ms/step - loss: 0.0022 - mae: 0.0355 - val_loss: 7.0654e-04 - val_mae: 0.0185\n",
            "Epoch 6/50\n",
            "\u001b[1m98/98\u001b[0m \u001b[32m━━━━━━━━━━━━━━━━━━━━\u001b[0m\u001b[37m\u001b[0m \u001b[1m2s\u001b[0m 25ms/step - loss: 0.0015 - mae: 0.0297 - val_loss: 5.3332e-04 - val_mae: 0.0172\n",
            "Epoch 7/50\n",
            "\u001b[1m98/98\u001b[0m \u001b[32m━━━━━━━━━━━━━━━━━━━━\u001b[0m\u001b[37m\u001b[0m \u001b[1m3s\u001b[0m 33ms/step - loss: 0.0010 - mae: 0.0246 - val_loss: 5.4697e-04 - val_mae: 0.0183\n",
            "Epoch 8/50\n",
            "\u001b[1m98/98\u001b[0m \u001b[32m━━━━━━━━━━━━━━━━━━━━\u001b[0m\u001b[37m\u001b[0m \u001b[1m5s\u001b[0m 27ms/step - loss: 9.2389e-04 - mae: 0.0232 - val_loss: 4.7654e-04 - val_mae: 0.0174\n",
            "Epoch 9/50\n",
            "\u001b[1m98/98\u001b[0m \u001b[32m━━━━━━━━━━━━━━━━━━━━\u001b[0m\u001b[37m\u001b[0m \u001b[1m5s\u001b[0m 25ms/step - loss: 8.1492e-04 - mae: 0.0218 - val_loss: 4.4092e-04 - val_mae: 0.0142\n",
            "Epoch 10/50\n",
            "\u001b[1m98/98\u001b[0m \u001b[32m━━━━━━━━━━━━━━━━━━━━\u001b[0m\u001b[37m\u001b[0m \u001b[1m3s\u001b[0m 29ms/step - loss: 6.9814e-04 - mae: 0.0203 - val_loss: 2.8619e-04 - val_mae: 0.0126\n",
            "Epoch 11/50\n",
            "\u001b[1m98/98\u001b[0m \u001b[32m━━━━━━━━━━━━━━━━━━━━\u001b[0m\u001b[37m\u001b[0m \u001b[1m4s\u001b[0m 40ms/step - loss: 5.5864e-04 - mae: 0.0179 - val_loss: 4.6548e-04 - val_mae: 0.0184\n",
            "Epoch 12/50\n",
            "\u001b[1m98/98\u001b[0m \u001b[32m━━━━━━━━━━━━━━━━━━━━\u001b[0m\u001b[37m\u001b[0m \u001b[1m3s\u001b[0m 26ms/step - loss: 5.8970e-04 - mae: 0.0180 - val_loss: 1.9657e-04 - val_mae: 0.0090\n",
            "Epoch 13/50\n",
            "\u001b[1m98/98\u001b[0m \u001b[32m━━━━━━━━━━━━━━━━━━━━\u001b[0m\u001b[37m\u001b[0m \u001b[1m5s\u001b[0m 25ms/step - loss: 5.3142e-04 - mae: 0.0172 - val_loss: 2.5344e-04 - val_mae: 0.0112\n",
            "Epoch 14/50\n",
            "\u001b[1m98/98\u001b[0m \u001b[32m━━━━━━━━━━━━━━━━━━━━\u001b[0m\u001b[37m\u001b[0m \u001b[1m3s\u001b[0m 30ms/step - loss: 4.4728e-04 - mae: 0.0161 - val_loss: 1.3498e-04 - val_mae: 0.0077\n",
            "Epoch 15/50\n",
            "\u001b[1m98/98\u001b[0m \u001b[32m━━━━━━━━━━━━━━━━━━━━\u001b[0m\u001b[37m\u001b[0m \u001b[1m5s\u001b[0m 25ms/step - loss: 3.9202e-04 - mae: 0.0148 - val_loss: 1.5916e-04 - val_mae: 0.0076\n",
            "Epoch 16/50\n",
            "\u001b[1m98/98\u001b[0m \u001b[32m━━━━━━━━━━━━━━━━━━━━\u001b[0m\u001b[37m\u001b[0m \u001b[1m3s\u001b[0m 26ms/step - loss: 4.2738e-04 - mae: 0.0153 - val_loss: 1.5542e-04 - val_mae: 0.0087\n",
            "Epoch 17/50\n",
            "\u001b[1m98/98\u001b[0m \u001b[32m━━━━━━━━━━━━━━━━━━━━\u001b[0m\u001b[37m\u001b[0m \u001b[1m2s\u001b[0m 25ms/step - loss: 3.8960e-04 - mae: 0.0143 - val_loss: 1.4998e-04 - val_mae: 0.0086\n",
            "Epoch 18/50\n",
            "\u001b[1m98/98\u001b[0m \u001b[32m━━━━━━━━━━━━━━━━━━━━\u001b[0m\u001b[37m\u001b[0m \u001b[1m3s\u001b[0m 31ms/step - loss: 4.6026e-04 - mae: 0.0156 - val_loss: 1.8347e-04 - val_mae: 0.0103\n",
            "Epoch 19/50\n",
            "\u001b[1m98/98\u001b[0m \u001b[32m━━━━━━━━━━━━━━━━━━━━\u001b[0m\u001b[37m\u001b[0m \u001b[1m5s\u001b[0m 26ms/step - loss: 3.1921e-04 - mae: 0.0132 - val_loss: 1.8866e-04 - val_mae: 0.0104\n",
            "Epoch 20/50\n",
            "\u001b[1m98/98\u001b[0m \u001b[32m━━━━━━━━━━━━━━━━━━━━\u001b[0m\u001b[37m\u001b[0m \u001b[1m5s\u001b[0m 27ms/step - loss: 3.2124e-04 - mae: 0.0131 - val_loss: 1.1732e-04 - val_mae: 0.0086\n",
            "Epoch 21/50\n",
            "\u001b[1m98/98\u001b[0m \u001b[32m━━━━━━━━━━━━━━━━━━━━\u001b[0m\u001b[37m\u001b[0m \u001b[1m3s\u001b[0m 30ms/step - loss: 3.2025e-04 - mae: 0.0133 - val_loss: 1.0013e-04 - val_mae: 0.0075\n",
            "Epoch 22/50\n",
            "\u001b[1m98/98\u001b[0m \u001b[32m━━━━━━━━━━━━━━━━━━━━\u001b[0m\u001b[37m\u001b[0m \u001b[1m5s\u001b[0m 26ms/step - loss: 2.7235e-04 - mae: 0.0123 - val_loss: 3.9852e-05 - val_mae: 0.0047\n",
            "Epoch 23/50\n",
            "\u001b[1m98/98\u001b[0m \u001b[32m━━━━━━━━━━━━━━━━━━━━\u001b[0m\u001b[37m\u001b[0m \u001b[1m2s\u001b[0m 25ms/step - loss: 2.1537e-04 - mae: 0.0111 - val_loss: 4.0844e-04 - val_mae: 0.0183\n",
            "Epoch 24/50\n",
            "\u001b[1m98/98\u001b[0m \u001b[32m━━━━━━━━━━━━━━━━━━━━\u001b[0m\u001b[37m\u001b[0m \u001b[1m3s\u001b[0m 27ms/step - loss: 3.4434e-04 - mae: 0.0136 - val_loss: 4.9557e-05 - val_mae: 0.0055\n",
            "Epoch 25/50\n",
            "\u001b[1m98/98\u001b[0m \u001b[32m━━━━━━━━━━━━━━━━━━━━\u001b[0m\u001b[37m\u001b[0m \u001b[1m7s\u001b[0m 46ms/step - loss: 1.7730e-04 - mae: 0.0100 - val_loss: 7.7780e-05 - val_mae: 0.0079\n",
            "Epoch 26/50\n",
            "\u001b[1m98/98\u001b[0m \u001b[32m━━━━━━━━━━━━━━━━━━━━\u001b[0m\u001b[37m\u001b[0m \u001b[1m3s\u001b[0m 26ms/step - loss: 2.1004e-04 - mae: 0.0111 - val_loss: 5.5289e-05 - val_mae: 0.0052\n",
            "Epoch 27/50\n",
            "\u001b[1m98/98\u001b[0m \u001b[32m━━━━━━━━━━━━━━━━━━━━\u001b[0m\u001b[37m\u001b[0m \u001b[1m3s\u001b[0m 33ms/step - loss: 2.2295e-04 - mae: 0.0116 - val_loss: 1.8491e-04 - val_mae: 0.0125\n",
            "Epoch 28/50\n",
            "\u001b[1m98/98\u001b[0m \u001b[32m━━━━━━━━━━━━━━━━━━━━\u001b[0m\u001b[37m\u001b[0m \u001b[1m5s\u001b[0m 30ms/step - loss: 2.7909e-04 - mae: 0.0126 - val_loss: 1.6507e-04 - val_mae: 0.0103\n",
            "Epoch 29/50\n",
            "\u001b[1m98/98\u001b[0m \u001b[32m━━━━━━━━━━━━━━━━━━━━\u001b[0m\u001b[37m\u001b[0m \u001b[1m5s\u001b[0m 27ms/step - loss: 2.1571e-04 - mae: 0.0108 - val_loss: 5.3500e-05 - val_mae: 0.0056\n",
            "Epoch 30/50\n",
            "\u001b[1m98/98\u001b[0m \u001b[32m━━━━━━━━━━━━━━━━━━━━\u001b[0m\u001b[37m\u001b[0m \u001b[1m2s\u001b[0m 25ms/step - loss: 1.9456e-04 - mae: 0.0103 - val_loss: 6.1370e-05 - val_mae: 0.0063\n",
            "Epoch 31/50\n",
            "\u001b[1m98/98\u001b[0m \u001b[32m━━━━━━━━━━━━━━━━━━━━\u001b[0m\u001b[37m\u001b[0m \u001b[1m3s\u001b[0m 27ms/step - loss: 2.4111e-04 - mae: 0.0119 - val_loss: 4.8634e-05 - val_mae: 0.0061\n",
            "Epoch 32/50\n",
            "\u001b[1m98/98\u001b[0m \u001b[32m━━━━━━━━━━━━━━━━━━━━\u001b[0m\u001b[37m\u001b[0m \u001b[1m7s\u001b[0m 41ms/step - loss: 1.8927e-04 - mae: 0.0102 - val_loss: 3.5903e-05 - val_mae: 0.0049\n",
            "Epoch 33/50\n",
            "\u001b[1m98/98\u001b[0m \u001b[32m━━━━━━━━━━━━━━━━━━━━\u001b[0m\u001b[37m\u001b[0m \u001b[1m3s\u001b[0m 25ms/step - loss: 2.2299e-04 - mae: 0.0110 - val_loss: 7.6025e-05 - val_mae: 0.0073\n",
            "Epoch 34/50\n",
            "\u001b[1m98/98\u001b[0m \u001b[32m━━━━━━━━━━━━━━━━━━━━\u001b[0m\u001b[37m\u001b[0m \u001b[1m3s\u001b[0m 26ms/step - loss: 1.8124e-04 - mae: 0.0099 - val_loss: 3.5235e-05 - val_mae: 0.0049\n",
            "Epoch 35/50\n",
            "\u001b[1m98/98\u001b[0m \u001b[32m━━━━━━━━━━━━━━━━━━━━\u001b[0m\u001b[37m\u001b[0m \u001b[1m6s\u001b[0m 33ms/step - loss: 1.8768e-04 - mae: 0.0101 - val_loss: 2.4449e-05 - val_mae: 0.0038\n",
            "Epoch 36/50\n",
            "\u001b[1m98/98\u001b[0m \u001b[32m━━━━━━━━━━━━━━━━━━━━\u001b[0m\u001b[37m\u001b[0m \u001b[1m4s\u001b[0m 37ms/step - loss: 1.7860e-04 - mae: 0.0101 - val_loss: 2.0358e-05 - val_mae: 0.0032\n",
            "Epoch 37/50\n",
            "\u001b[1m98/98\u001b[0m \u001b[32m━━━━━━━━━━━━━━━━━━━━\u001b[0m\u001b[37m\u001b[0m \u001b[1m3s\u001b[0m 26ms/step - loss: 1.9921e-04 - mae: 0.0101 - val_loss: 7.2819e-05 - val_mae: 0.0071\n",
            "Epoch 38/50\n",
            "\u001b[1m98/98\u001b[0m \u001b[32m━━━━━━━━━━━━━━━━━━━━\u001b[0m\u001b[37m\u001b[0m \u001b[1m5s\u001b[0m 24ms/step - loss: 1.7179e-04 - mae: 0.0099 - val_loss: 3.1003e-05 - val_mae: 0.0043\n",
            "Epoch 39/50\n",
            "\u001b[1m98/98\u001b[0m \u001b[32m━━━━━━━━━━━━━━━━━━━━\u001b[0m\u001b[37m\u001b[0m \u001b[1m4s\u001b[0m 35ms/step - loss: 1.4727e-04 - mae: 0.0090 - val_loss: 1.8480e-05 - val_mae: 0.0033\n",
            "Epoch 40/50\n",
            "\u001b[1m98/98\u001b[0m \u001b[32m━━━━━━━━━━━━━━━━━━━━\u001b[0m\u001b[37m\u001b[0m \u001b[1m4s\u001b[0m 27ms/step - loss: 1.8596e-04 - mae: 0.0100 - val_loss: 3.2356e-05 - val_mae: 0.0044\n",
            "Epoch 41/50\n",
            "\u001b[1m98/98\u001b[0m \u001b[32m━━━━━━━━━━━━━━━━━━━━\u001b[0m\u001b[37m\u001b[0m \u001b[1m3s\u001b[0m 30ms/step - loss: 1.6212e-04 - mae: 0.0093 - val_loss: 3.7020e-05 - val_mae: 0.0048\n",
            "Epoch 42/50\n",
            "\u001b[1m98/98\u001b[0m \u001b[32m━━━━━━━━━━━━━━━━━━━━\u001b[0m\u001b[37m\u001b[0m \u001b[1m3s\u001b[0m 26ms/step - loss: 1.6024e-04 - mae: 0.0094 - val_loss: 4.9444e-05 - val_mae: 0.0063\n",
            "Epoch 43/50\n",
            "\u001b[1m98/98\u001b[0m \u001b[32m━━━━━━━━━━━━━━━━━━━━\u001b[0m\u001b[37m\u001b[0m \u001b[1m4s\u001b[0m 36ms/step - loss: 1.3265e-04 - mae: 0.0086 - val_loss: 3.8818e-05 - val_mae: 0.0052\n",
            "Epoch 44/50\n",
            "\u001b[1m98/98\u001b[0m \u001b[32m━━━━━━━━━━━━━━━━━━━━\u001b[0m\u001b[37m\u001b[0m \u001b[1m4s\u001b[0m 26ms/step - loss: 1.8545e-04 - mae: 0.0101 - val_loss: 6.9293e-05 - val_mae: 0.0068\n",
            "Epoch 45/50\n",
            "\u001b[1m98/98\u001b[0m \u001b[32m━━━━━━━━━━━━━━━━━━━━\u001b[0m\u001b[37m\u001b[0m \u001b[1m3s\u001b[0m 25ms/step - loss: 1.3766e-04 - mae: 0.0084 - val_loss: 1.1661e-04 - val_mae: 0.0096\n",
            "Epoch 46/50\n",
            "\u001b[1m98/98\u001b[0m \u001b[32m━━━━━━━━━━━━━━━━━━━━\u001b[0m\u001b[37m\u001b[0m \u001b[1m3s\u001b[0m 26ms/step - loss: 1.5577e-04 - mae: 0.0091 - val_loss: 2.2143e-05 - val_mae: 0.0040\n",
            "Epoch 47/50\n",
            "\u001b[1m98/98\u001b[0m \u001b[32m━━━━━━━━━━━━━━━━━━━━\u001b[0m\u001b[37m\u001b[0m \u001b[1m3s\u001b[0m 33ms/step - loss: 1.2574e-04 - mae: 0.0083 - val_loss: 7.0955e-05 - val_mae: 0.0075\n",
            "Epoch 48/50\n",
            "\u001b[1m98/98\u001b[0m \u001b[32m━━━━━━━━━━━━━━━━━━━━\u001b[0m\u001b[37m\u001b[0m \u001b[1m4s\u001b[0m 37ms/step - loss: 1.5747e-04 - mae: 0.0094 - val_loss: 1.4470e-04 - val_mae: 0.0114\n",
            "Epoch 49/50\n",
            "\u001b[1m98/98\u001b[0m \u001b[32m━━━━━━━━━━━━━━━━━━━━\u001b[0m\u001b[37m\u001b[0m \u001b[1m3s\u001b[0m 25ms/step - loss: 1.7819e-04 - mae: 0.0103 - val_loss: 3.7314e-05 - val_mae: 0.0051\n",
            "Epoch 50/50\n",
            "\u001b[1m98/98\u001b[0m \u001b[32m━━━━━━━━━━━━━━━━━━━━\u001b[0m\u001b[37m\u001b[0m \u001b[1m5s\u001b[0m 27ms/step - loss: 1.5309e-04 - mae: 0.0095 - val_loss: 1.3942e-04 - val_mae: 0.0114\n"
          ]
        }
      ]
    },
    {
      "cell_type": "code",
      "source": [
        "# Guardar modelo\n",
        "model_reg.save('/content/drive/MyDrive/Data_Base/modelo_lstm_emg_reg.keras')\n",
        "print('Modelo regresor guardado')"
      ],
      "metadata": {
        "colab": {
          "base_uri": "https://localhost:8080/"
        },
        "id": "srY5rNc8CeqL",
        "outputId": "6b5ca2e2-a59f-4a56-e169-9ddbc695e14b"
      },
      "execution_count": 71,
      "outputs": [
        {
          "output_type": "stream",
          "name": "stdout",
          "text": [
            "Modelo regresor guardado\n"
          ]
        }
      ]
    },
    {
      "cell_type": "code",
      "source": [
        "# Gráficas\n",
        "plt.figure(figsize=(8,5))\n",
        "plt.plot(history_reg.history['mae'], label='Entrenamiento MAE')\n",
        "plt.plot(history_reg.history['val_mae'], label='Validación MAE')\n",
        "plt.title('Error absoluto medio (MAE) regresión')\n",
        "plt.xlabel('Epoch')\n",
        "plt.ylabel('MAE (%MVC)')\n",
        "plt.legend()\n",
        "plt.grid(True)\n",
        "plt.show()\n",
        "\n",
        "plt.figure(figsize=(8,5))\n",
        "plt.plot(history_reg.history['loss'], label='Entrenamiento MSE')\n",
        "plt.plot(history_reg.history['val_loss'], label='Validación MSE')\n",
        "plt.title('Pérdida MSE regresión')\n",
        "plt.xlabel('Epoch')\n",
        "plt.ylabel('MSE')\n",
        "plt.legend()\n",
        "plt.grid(True)\n",
        "plt.show()\n"
      ],
      "metadata": {
        "colab": {
          "base_uri": "https://localhost:8080/",
          "height": 931
        },
        "id": "SfPLSRzqiaen",
        "outputId": "0ddb1966-17c2-497a-9924-a3d29254ce38"
      },
      "execution_count": 72,
      "outputs": [
        {
          "output_type": "display_data",
          "data": {
            "text/plain": [
              "<Figure size 800x500 with 1 Axes>"
            ],
            "image/png": "[encoded data removed]"
          },
          "metadata": {}
        },
        {
          "output_type": "display_data",
          "data": {
            "text/plain": [
              "<Figure size 800x500 with 1 Axes>"
            ],
            "image/png": "[encoded data removed]"
          },
          "metadata": {}
        }
      ]
    },
    {
      "cell_type": "code",
      "source": [
        "# Guardar modelos\n",
        "model_class.save('/content/drive/MyDrive/Data_Base/modelo_lstm_emg_class.h5')\n",
        "print('Clasificador guardado')\n",
        "\n",
        "model_reg.save('/content/drive/MyDrive/Data_Base/modelo_lstm_emg_reg.keras')\n",
        "print('Regressor guardado')\n"
      ],
      "metadata": {
        "colab": {
          "base_uri": "https://localhost:8080/"
        },
        "id": "XMuYP-lqigJ9",
        "outputId": "633ce1f6-86fd-425f-8925-df40d5fe2dc6"
      },
      "execution_count": 21,
      "outputs": [
        {
          "output_type": "stream",
          "name": "stderr",
          "text": [
            "WARNING:absl:You are saving your model as an HDF5 file via `model.save()` or `keras.saving.save_model(model)`. This file format is considered legacy. We recommend using instead the native Keras format, e.g. `model.save('my_model.keras')` or `keras.saving.save_model(model, 'my_model.keras')`. \n"
          ]
        },
        {
          "output_type": "stream",
          "name": "stdout",
          "text": [
            "Clasificador guardado\n",
            "Regressor guardado\n"
          ]
        }
      ]
    },
    {
      "cell_type": "code",
      "source": [
        "# --- Librerías ---\n",
        "import wfdb\n",
        "import numpy as np\n",
        "import matplotlib.pyplot as plt\n",
        "from scipy.signal import welch\n",
        "import joblib\n",
        "from tensorflow.keras.models import load_model\n",
        "import glob\n",
        "import os\n",
        "import pandas as pd\n",
        "\n",
        "# --- Parámetros generales ---\n",
        "folder_validacion = '/content/drive/MyDrive/Data_Base/EMG_NUEVAS/'\n",
        "folder_resultados = folder_validacion + 'Resultados/'\n",
        "\n",
        "timesteps = 10\n",
        "win_ms = 200\n",
        "overlap = 0.5\n",
        "\n",
        "# --- Cargar scaler y modelo ---\n",
        "scaler = joblib.load('/content/drive/MyDrive/Data_Base/scaler_lstm_emg.pkl')\n",
        "model_reg = load_model('/content/drive/MyDrive/Data_Base/modelo_lstm_emg_reg.keras')\n",
        "\n",
        "# --- Crear carpeta de resultados si no existe ---\n",
        "os.makedirs(folder_resultados, exist_ok=True)\n",
        "\n",
        "# --- FUNCION para una señal individual ---\n",
        "def predecir_senal_nueva(archivo_dat, save_csv=True, save_plot=True):\n",
        "\n",
        "    emg_name = folder_validacion + archivo_dat.replace('.dat','')\n",
        "    emg_record = wfdb.rdrecord(emg_name)\n",
        "    emg_data = emg_record.p_signal\n",
        "    fs_emg = emg_record.fs\n",
        "\n",
        "    print(f' Señal cargada: {archivo_dat} - shape: {emg_data.shape}, fs={fs_emg} Hz')\n",
        "\n",
        "    # Mejor canal\n",
        "    rms_channels = np.sqrt(np.mean(emg_data**2, axis=0))\n",
        "    best_channel = np.argmax(rms_channels)\n",
        "    print(f'→ Mejor canal EMG: {best_channel}')\n",
        "\n",
        "    emg_ch = emg_data[:, best_channel]\n",
        "\n",
        "    # Ventaneo\n",
        "    win_size = int(fs_emg * (win_ms / 1000))\n",
        "    step_size = int(win_size * (1 - overlap))\n",
        "\n",
        "    rms_list = []\n",
        "    arv_list = []\n",
        "    mnf_list = []\n",
        "\n",
        "    for start in range(0, len(emg_ch) - win_size, step_size):\n",
        "        window = emg_ch[start:start + win_size]\n",
        "        rms = np.sqrt(np.mean(window**2))\n",
        "        arv = np.mean(np.abs(window))\n",
        "        f, Pxx = welch(window, fs_emg, nperseg=win_size)\n",
        "        mnf = np.sum(f * Pxx) / np.sum(Pxx)\n",
        "\n",
        "        rms_list.append(rms)\n",
        "        arv_list.append(arv)\n",
        "        mnf_list.append(mnf)\n",
        "\n",
        "    # Arrays\n",
        "    rms_arr = np.array(rms_list)\n",
        "    arv_arr = np.array(arv_list)\n",
        "    mnf_arr = np.array(mnf_list)\n",
        "\n",
        "    mvc_rms = np.max(rms_arr)\n",
        "    rms_percent = (rms_arr / mvc_rms) * 100\n",
        "\n",
        "    features_arr = np.vstack([rms_percent, arv_arr, mnf_arr]).T\n",
        "\n",
        "    # Secuencias\n",
        "    X_new_seq = []\n",
        "    for i in range(len(features_arr) - timesteps):\n",
        "        X_new_seq.append(features_arr[i:i+timesteps])\n",
        "\n",
        "    X_new_seq = np.array(X_new_seq)\n",
        "    print(f'→ Secuencias generadas: {X_new_seq.shape}')\n",
        "\n",
        "    # Escalar\n",
        "    X_new_seq_reshaped = X_new_seq.reshape(-1, X_new_seq.shape[2])\n",
        "    X_new_seq_scaled = scaler.transform(X_new_seq_reshaped)\n",
        "    X_new_seq_scaled = X_new_seq_scaled.reshape(-1, timesteps, X_new_seq.shape[2])\n",
        "\n",
        "    # Predicción\n",
        "    preds_reg = model_reg.predict(X_new_seq_scaled).flatten()\n",
        "\n",
        "    # Convertir a %MVC reales\n",
        "    preds_percent = preds_reg * 100\n",
        "\n",
        "    # Guardar CSV\n",
        "    if save_csv:\n",
        "        df_pred = pd.DataFrame({\n",
        "            'secuencia': np.arange(len(preds_percent)),\n",
        "            'predicted_mvc_percent': preds_percent,\n",
        "            'signal_name': archivo_dat\n",
        "        })\n",
        "        csv_name = folder_resultados + f'prediccion_{archivo_dat.replace(\".dat\",\".csv\")}'\n",
        "        df_pred.to_csv(csv_name, index=False)\n",
        "        print(f' CSV guardado: {csv_name}')\n",
        "\n",
        "    # Guardar Plot\n",
        "    if save_plot:\n",
        "        plt.figure(figsize=(12,5))\n",
        "        plt.plot(preds_percent, label='Predicción %MVC', color='b')\n",
        "        plt.ylim(0,100)\n",
        "        plt.title(f'Predicción continua %MVC - {archivo_dat}')\n",
        "        plt.xlabel('Secuencia')\n",
        "        plt.ylabel('% MVC')\n",
        "        plt.legend()\n",
        "        plt.grid(True)\n",
        "        fig_name = folder_resultados + f'fig_{archivo_dat.replace(\".dat\",\".png\")}'\n",
        "        plt.savefig(fig_name)\n",
        "        plt.close()\n",
        "        print(f' Imagen guardada: {fig_name}')\n",
        "\n",
        "    return preds_percent  # Para usarlo después\n",
        "\n",
        "# --- FUNCION para toda la carpeta ---\n",
        "def predecir_carpeta_validacion(save_csv=True, save_plot=True):\n",
        "\n",
        "    lista_dat = sorted(glob.glob(folder_validacion + '*.dat'))\n",
        "    print(f'\\n Se encontraron {len(lista_dat)} señales en la carpeta.')\n",
        "\n",
        "    for archivo_path in lista_dat:\n",
        "        archivo_dat = os.path.basename(archivo_path)\n",
        "        print(f'\\n--- Procesando: {archivo_dat} ---')\n",
        "        predecir_senal_nueva(archivo_dat, save_csv=save_csv, save_plot=save_plot)\n",
        "\n",
        "    print('\\n Proceso terminado.')\n"
      ],
      "metadata": {
        "id": "bxfS9h5M41M2"
      },
      "execution_count": 89,
      "outputs": []
    },
    {
      "cell_type": "code",
      "source": [
        "predecir_carpeta_validacion(save_csv=True, save_plot=True)\n"
      ],
      "metadata": {
        "colab": {
          "base_uri": "https://localhost:8080/"
        },
        "id": "FDmv7_du49e_",
        "outputId": "948f3f80-0734-4d62-aa46-b580d7424b42"
      },
      "execution_count": 90,
      "outputs": [
        {
          "output_type": "stream",
          "name": "stdout",
          "text": [
            "\n",
            " Se encontraron 6 señales en la carpeta.\n",
            "\n",
            "--- Procesando: mvc_preprocess_finger1_extension.dat ---\n",
            " Señal cargada: mvc_preprocess_finger1_extension.dat - shape: (20480, 256), fs=2048 Hz\n",
            "→ Mejor canal EMG: 135\n",
            "→ Secuencias generadas: (89, 10, 3)\n",
            "\u001b[1m3/3\u001b[0m \u001b[32m━━━━━━━━━━━━━━━━━━━━\u001b[0m\u001b[37m\u001b[0m \u001b[1m1s\u001b[0m 204ms/step\n",
            " CSV guardado: /content/drive/MyDrive/Data_Base/EMG_NUEVAS/Resultados/prediccion_mvc_preprocess_finger1_extension.csv\n",
            " Imagen guardada: /content/drive/MyDrive/Data_Base/EMG_NUEVAS/Resultados/fig_mvc_preprocess_finger1_extension.png\n",
            "\n",
            "--- Procesando: mvc_preprocess_finger1_flexion.dat ---\n",
            " Señal cargada: mvc_preprocess_finger1_flexion.dat - shape: (20480, 256), fs=2048 Hz\n",
            "→ Mejor canal EMG: 143\n",
            "→ Secuencias generadas: (89, 10, 3)\n",
            "\u001b[1m3/3\u001b[0m \u001b[32m━━━━━━━━━━━━━━━━━━━━\u001b[0m\u001b[37m\u001b[0m \u001b[1m0s\u001b[0m 17ms/step\n",
            " CSV guardado: /content/drive/MyDrive/Data_Base/EMG_NUEVAS/Resultados/prediccion_mvc_preprocess_finger1_flexion.csv\n",
            " Imagen guardada: /content/drive/MyDrive/Data_Base/EMG_NUEVAS/Resultados/fig_mvc_preprocess_finger1_flexion.png\n",
            "\n",
            "--- Procesando: mvc_preprocess_finger2_extension.dat ---\n",
            " Señal cargada: mvc_preprocess_finger2_extension.dat - shape: (20480, 256), fs=2048 Hz\n",
            "→ Mejor canal EMG: 64\n",
            "→ Secuencias generadas: (89, 10, 3)\n",
            "\u001b[1m3/3\u001b[0m \u001b[32m━━━━━━━━━━━━━━━━━━━━\u001b[0m\u001b[37m\u001b[0m \u001b[1m0s\u001b[0m 35ms/step\n",
            " CSV guardado: /content/drive/MyDrive/Data_Base/EMG_NUEVAS/Resultados/prediccion_mvc_preprocess_finger2_extension.csv\n",
            " Imagen guardada: /content/drive/MyDrive/Data_Base/EMG_NUEVAS/Resultados/fig_mvc_preprocess_finger2_extension.png\n",
            "\n",
            "--- Procesando: mvc_preprocess_finger3_extension.dat ---\n",
            " Señal cargada: mvc_preprocess_finger3_extension.dat - shape: (20480, 256), fs=2048 Hz\n",
            "→ Mejor canal EMG: 84\n",
            "→ Secuencias generadas: (89, 10, 3)\n",
            "\u001b[1m3/3\u001b[0m \u001b[32m━━━━━━━━━━━━━━━━━━━━\u001b[0m\u001b[37m\u001b[0m \u001b[1m0s\u001b[0m 16ms/step\n",
            " CSV guardado: /content/drive/MyDrive/Data_Base/EMG_NUEVAS/Resultados/prediccion_mvc_preprocess_finger3_extension.csv\n",
            " Imagen guardada: /content/drive/MyDrive/Data_Base/EMG_NUEVAS/Resultados/fig_mvc_preprocess_finger3_extension.png\n",
            "\n",
            "--- Procesando: mvc_preprocess_finger4_extension.dat ---\n",
            " Señal cargada: mvc_preprocess_finger4_extension.dat - shape: (20480, 256), fs=2048 Hz\n",
            "→ Mejor canal EMG: 13\n",
            "→ Secuencias generadas: (89, 10, 3)\n",
            "\u001b[1m3/3\u001b[0m \u001b[32m━━━━━━━━━━━━━━━━━━━━\u001b[0m\u001b[37m\u001b[0m \u001b[1m0s\u001b[0m 17ms/step\n",
            " CSV guardado: /content/drive/MyDrive/Data_Base/EMG_NUEVAS/Resultados/prediccion_mvc_preprocess_finger4_extension.csv\n",
            " Imagen guardada: /content/drive/MyDrive/Data_Base/EMG_NUEVAS/Resultados/fig_mvc_preprocess_finger4_extension.png\n",
            "\n",
            "--- Procesando: mvc_preprocess_finger5_extension.dat ---\n",
            " Señal cargada: mvc_preprocess_finger5_extension.dat - shape: (20480, 256), fs=2048 Hz\n",
            "→ Mejor canal EMG: 206\n",
            "→ Secuencias generadas: (89, 10, 3)\n",
            "\u001b[1m3/3\u001b[0m \u001b[32m━━━━━━━━━━━━━━━━━━━━\u001b[0m\u001b[37m\u001b[0m \u001b[1m0s\u001b[0m 17ms/step\n",
            " CSV guardado: /content/drive/MyDrive/Data_Base/EMG_NUEVAS/Resultados/prediccion_mvc_preprocess_finger5_extension.csv\n",
            " Imagen guardada: /content/drive/MyDrive/Data_Base/EMG_NUEVAS/Resultados/fig_mvc_preprocess_finger5_extension.png\n",
            "\n",
            " Proceso terminado.\n"
          ]
        }
      ]
    },
    {
      "cell_type": "code",
      "source": [
        "def graficar_senales_originales():\n",
        "\n",
        "    lista_dat = sorted(glob.glob(folder_validacion + '*.dat'))\n",
        "    print(f'\\n Se encontraron {len(lista_dat)} señales en la carpeta.')\n",
        "\n",
        "    for archivo_path in lista_dat:\n",
        "        archivo_dat = os.path.basename(archivo_path)\n",
        "        print(f'\\n--- Procesando: {archivo_dat} ---')\n",
        "\n",
        "        # Cargar señal\n",
        "        emg_name = folder_validacion + archivo_dat.replace('.dat','')\n",
        "        emg_record = wfdb.rdrecord(emg_name)\n",
        "        emg_data = emg_record.p_signal\n",
        "        fs_emg = emg_record.fs\n",
        "\n",
        "        # Mejor canal\n",
        "        rms_channels = np.sqrt(np.mean(emg_data**2, axis=0))\n",
        "        best_channel = np.argmax(rms_channels)\n",
        "        print(f'→ Mejor canal EMG: {best_channel}')\n",
        "\n",
        "        emg_ch = emg_data[:, best_channel]\n",
        "\n",
        "        # Eje tiempo en segundos\n",
        "        tiempo = np.arange(len(emg_ch)) / fs_emg\n",
        "\n",
        "        # Graficar\n",
        "        plt.figure(figsize=(12,5))\n",
        "        plt.plot(tiempo, emg_ch, color='b')\n",
        "        plt.title(f'Señal original EMG - {archivo_dat} (canal {best_channel})')\n",
        "        plt.xlabel('Tiempo [s]')\n",
        "        plt.ylabel('Amplitud (original)')\n",
        "        plt.grid(True)\n",
        "\n",
        "        # Guardar\n",
        "        fig_name = folder_resultados + f'fig_original_{archivo_dat.replace(\".dat\",\".png\")}'\n",
        "        plt.savefig(fig_name)\n",
        "        plt.close()\n",
        "        print(f' Imagen guardada: {fig_name}')\n",
        "    print('\\n Proceso terminado: señales originales graficadas.')"
      ],
      "metadata": {
        "id": "7SMzsmOuiqlm"
      },
      "execution_count": 91,
      "outputs": []
    },
    {
      "cell_type": "code",
      "source": [
        "graficar_senales_originales()\n"
      ],
      "metadata": {
        "colab": {
          "base_uri": "https://localhost:8080/"
        },
        "id": "4jkUKSosze_T",
        "outputId": "9c3c1d52-d523-40fa-9355-d44dd4f570a9"
      },
      "execution_count": 92,
      "outputs": [
        {
          "output_type": "stream",
          "name": "stdout",
          "text": [
            "\n",
            " Se encontraron 6 señales en la carpeta.\n",
            "\n",
            "--- Procesando: mvc_preprocess_finger1_extension.dat ---\n",
            "→ Mejor canal EMG: 135\n",
            " Imagen guardada: /content/drive/MyDrive/Data_Base/EMG_NUEVAS/Resultados/fig_original_mvc_preprocess_finger1_extension.png\n",
            "\n",
            "--- Procesando: mvc_preprocess_finger1_flexion.dat ---\n",
            "→ Mejor canal EMG: 143\n",
            " Imagen guardada: /content/drive/MyDrive/Data_Base/EMG_NUEVAS/Resultados/fig_original_mvc_preprocess_finger1_flexion.png\n",
            "\n",
            "--- Procesando: mvc_preprocess_finger2_extension.dat ---\n",
            "→ Mejor canal EMG: 64\n",
            " Imagen guardada: /content/drive/MyDrive/Data_Base/EMG_NUEVAS/Resultados/fig_original_mvc_preprocess_finger2_extension.png\n",
            "\n",
            "--- Procesando: mvc_preprocess_finger3_extension.dat ---\n",
            "→ Mejor canal EMG: 84\n",
            " Imagen guardada: /content/drive/MyDrive/Data_Base/EMG_NUEVAS/Resultados/fig_original_mvc_preprocess_finger3_extension.png\n",
            "\n",
            "--- Procesando: mvc_preprocess_finger4_extension.dat ---\n",
            "→ Mejor canal EMG: 13\n",
            " Imagen guardada: /content/drive/MyDrive/Data_Base/EMG_NUEVAS/Resultados/fig_original_mvc_preprocess_finger4_extension.png\n",
            "\n",
            "--- Procesando: mvc_preprocess_finger5_extension.dat ---\n",
            "→ Mejor canal EMG: 206\n",
            " Imagen guardada: /content/drive/MyDrive/Data_Base/EMG_NUEVAS/Resultados/fig_original_mvc_preprocess_finger5_extension.png\n",
            "\n",
            " Proceso terminado: señales originales graficadas.\n"
          ]
        }
      ]
    },
    {
      "cell_type": "code",
      "source": [
        "from sklearn.metrics import mean_absolute_error, mean_squared_error, r2_score\n",
        "import numpy as np\n",
        "\n",
        "# Predicción en el set de prueba\n",
        "y_pred_test_scaled = model_reg.predict(X_test_reg)\n",
        "\n",
        "# Reescalar las predicciones a %MVC original\n",
        "y_pred_test = scaler_y.inverse_transform(y_pred_test_scaled)\n",
        "y_test_reg_original = scaler_y.inverse_transform(y_test_reg_scaled)\n",
        "\n",
        "# Calcular métricas\n",
        "mae = mean_absolute_error(y_test_reg_original, y_pred_test)\n",
        "mse = mean_squared_error(y_test_reg_original, y_pred_test)\n",
        "rmse = np.sqrt(mse)\n",
        "r2 = r2_score(y_test_reg_original, y_pred_test)\n",
        "\n",
        "# Mostrar resultados\n",
        "print(f\"MAE: {mae:.4f} %MVC\")\n",
        "print(f\"RMSE: {rmse:.4f} %MVC\")\n",
        "print(f\"R² (Coeficiente de determinación): {r2:.4f}\")\n"
      ],
      "metadata": {
        "colab": {
          "base_uri": "https://localhost:8080/"
        },
        "id": "F2CnnINb0aWd",
        "outputId": "e62b6691-a777-439c-9403-c8490dad5ddc"
      },
      "execution_count": 88,
      "outputs": [
        {
          "output_type": "stream",
          "name": "stdout",
          "text": [
            "\u001b[1m31/31\u001b[0m \u001b[32m━━━━━━━━━━━━━━━━━━━━\u001b[0m\u001b[37m\u001b[0m \u001b[1m0s\u001b[0m 8ms/step\n",
            "MAE: 1.0428 %MVC\n",
            "RMSE: 1.0857 %MVC\n",
            "R² (Coeficiente de determinación): 0.9967\n"
          ]
        }
      ]
    }
  ]
}